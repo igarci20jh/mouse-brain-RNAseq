{
 "cells": [
  {
   "cell_type": "code",
   "execution_count": 2,
   "id": "1650f3ea",
   "metadata": {},
   "outputs": [
    {
     "name": "stdout",
     "output_type": "stream",
     "text": [
      "The autoreload extension is already loaded. To reload it, use:\n",
      "  %reload_ext autoreload\n"
     ]
    }
   ],
   "source": [
    "%load_ext autoreload\n",
    "%autoreload 2\n",
    "import matplotlib.pyplot as plt\n",
    "%matplotlib inline\n",
    "%config InlineBackend.figure_format='retina'"
   ]
  },
  {
   "cell_type": "code",
   "execution_count": 3,
   "id": "44420819",
   "metadata": {},
   "outputs": [],
   "source": [
    "import numpy as np\n",
    "import scanpy as sc\n",
    "import pandas as pd\n",
    "import anndata as ad\n",
    "import seaborn as sns"
   ]
  },
  {
   "cell_type": "code",
   "execution_count": 4,
   "id": "f1b80e5a",
   "metadata": {},
   "outputs": [],
   "source": [
    "sc.settings.verbosity = 3             # verbosity: errors (0), warnings (1), info (2), hints (3)\n",
    "sc.settings.set_figure_params(dpi=80, facecolor='white')"
   ]
  },
  {
   "cell_type": "code",
   "execution_count": 5,
   "id": "8927db44",
   "metadata": {},
   "outputs": [],
   "source": [
    "mouse_colors = plt.cm.colors.ListedColormap(['red', 'darkred', 'blue','darkblue', 'orange', 'darkorange', 'violet', 'darkviolet',])\n",
    "\n",
    "samples = [\n",
    "    \"Hyp_4wk_1_matrix.h5\",\n",
    "    \"Hyp_4wk_2_matrix.h5\",\n",
    "    \"Hyp_4wk_3_matrix.h5\",\n",
    "    \"Hyp_4wk_4_matrix.h5\",\n",
    "    \"Hyp_90wk_1_matrix.h5\",\n",
    "    \"Hyp_90wk_2_matrix.h5\",\n",
    "    \"Hyp_90wk_3_matrix.h5\",\n",
    "    \"Hyp_90wk_4_matrix.h5\",\n",
    "    \"PFC_4wk_1_matrix.h5\",\n",
    "    \"PFC_4wk_2_matrix.h5\",\n",
    "    \"PFC_4wk_3_matrix.h5\",\n",
    "    \"PFC_4wk_4_matrix.h5\",\n",
    "    \"PFC_90wk_1_matrix.h5\",\n",
    "    \"PFC_90wk_2_matrix.h5\",\n",
    "    \"PFC_90wk_3_matrix.h5\",\n",
    "    \"PFC_90wk_4_matrix.h5\"\n",
    "]\n",
    "\n",
    "mouse_id = {\n",
    "    0 : 1,\n",
    "    1 : 1,\n",
    "    2 : 2,\n",
    "    3 : 2,\n",
    "    4 : 3,\n",
    "    5 : 3,\n",
    "    6 : 4,\n",
    "    7 : 4,\n",
    "    8 : 5,\n",
    "    9 : 5,\n",
    "    10 : 6,\n",
    "    11 : 6,\n",
    "    12 : 7,\n",
    "    13 : 7,\n",
    "    14 : 8,\n",
    "    15 : 8\n",
    "}"
   ]
  },
  {
   "cell_type": "code",
   "execution_count": 17,
   "id": "3b9e24b7",
   "metadata": {},
   "outputs": [
    {
     "name": "stdout",
     "output_type": "stream",
     "text": [
      "AnnData object with n_obs × n_vars = 79667 × 20984\n",
      "    obs: 'age', 'n_genes_by_counts', 'total_counts', 'total_counts_mt', 'n_genes', 'n_counts', 'clust_annot', 'sex_ontology_term_id', 'suspension_type', 'cell_type_ontology_term_id', 'assay_ontology_term_id', 'tissue_ontology_term_id', 'disease_ontology_term_id', 'self_reported_ethnicity_ontology_term_id', 'development_stage_ontology_term_id', 'donor_id', 'is_primary_data', 'cell_type_annot', 'tissue_type', 'cell_type', 'assay', 'disease', 'sex', 'tissue', 'self_reported_ethnicity', 'development_stage', 'observation_joinid'\n",
      "    var: 'n_cells', 'highly_variable', 'means', 'dispersions', 'dispersions_norm', 'feature_is_filtered', 'mean', 'std', 'feature_name', 'feature_reference', 'feature_biotype', 'feature_length', 'feature_type'\n",
      "    uns: 'age_colors', 'batch_condition', 'citation', 'leiden', 'neighbors', 'organism', 'organism_ontology_term_id', 'pca', 'schema_reference', 'schema_version', 'title', 'umap'\n",
      "    obsm: 'X_pca', 'X_pca_harmony', 'X_pca_orig', 'X_umap', 'spatial_coords'\n",
      "    obsp: 'connectivities', 'distances'\n"
     ]
    }
   ],
   "source": [
    "adata= sc.read_h5ad(\"/Users/cmdb/qb25project/mouse-brain-RNAseq/RNAseqdata.h5ad\")\n",
    "print(adata)"
   ]
  },
  {
   "cell_type": "code",
   "execution_count": 18,
   "id": "49dca43c",
   "metadata": {},
   "outputs": [],
   "source": [
    "adata.write(\"RNAseq-converted-10x.h5\")"
   ]
  },
  {
   "cell_type": "code",
   "execution_count": null,
   "id": "3d376ecf",
   "metadata": {},
   "outputs": [
    {
     "name": "stdout",
     "output_type": "stream",
     "text": [
      "Hyp 4wk 1\n",
      "reading /Users/cmdb/qb25project/mouse-brain-RNAseq\n"
     ]
    },
    {
     "ename": "IsADirectoryError",
     "evalue": "[Errno 21] Unable to synchronously open file (file read failed: time = Fri Oct  3 12:20:42 2025\n, filename = '/Users/cmdb/qb25project/mouse-brain-RNAseq', file descriptor = 74, errno = 21, error message = 'Is a directory', buf = 0x16d0b86f0, total read size = 8, bytes this sub-read = 8, offset = 0)",
     "output_type": "error",
     "traceback": [
      "\u001b[31m---------------------------------------------------------------------------\u001b[39m",
      "\u001b[31mIsADirectoryError\u001b[39m                         Traceback (most recent call last)",
      "\u001b[36mCell\u001b[39m\u001b[36m \u001b[39m\u001b[32mIn[14]\u001b[39m\u001b[32m, line 6\u001b[39m\n\u001b[32m      4\u001b[39m area, age, idx, _ = s.split(\u001b[33m\"\u001b[39m\u001b[33m_\u001b[39m\u001b[33m\"\u001b[39m)\n\u001b[32m      5\u001b[39m \u001b[38;5;28mprint\u001b[39m(area, age, idx)\n\u001b[32m----> \u001b[39m\u001b[32m6\u001b[39m curr_adata = \u001b[43msc\u001b[49m\u001b[43m.\u001b[49m\u001b[43mread_10x_h5\u001b[49m\u001b[43m(\u001b[49m\u001b[33;43mf\u001b[39;49m\u001b[33;43m\"\u001b[39;49m\u001b[33;43m/Users/cmdb/qb25project/mouse-brain-RNAseq\u001b[39;49m\u001b[33;43m\"\u001b[39;49m\u001b[43m)\u001b[49m\n\u001b[32m      7\u001b[39m curr_adata.var_names_make_unique()\n\u001b[32m      8\u001b[39m curr_adata.obs[\u001b[33m'\u001b[39m\u001b[33marea\u001b[39m\u001b[33m'\u001b[39m] = area\n",
      "\u001b[36mFile \u001b[39m\u001b[32m/opt/anaconda3/envs/qbproject/lib/python3.13/site-packages/legacy_api_wrap/__init__.py:82\u001b[39m, in \u001b[36mlegacy_api.<locals>.wrapper.<locals>.fn_compatible\u001b[39m\u001b[34m(*args_all, **kw)\u001b[39m\n\u001b[32m     79\u001b[39m \u001b[38;5;129m@wraps\u001b[39m(fn)\n\u001b[32m     80\u001b[39m \u001b[38;5;28;01mdef\u001b[39;00m\u001b[38;5;250m \u001b[39m\u001b[34mfn_compatible\u001b[39m(*args_all: P.args, **kw: P.kwargs) -> R:\n\u001b[32m     81\u001b[39m     \u001b[38;5;28;01mif\u001b[39;00m \u001b[38;5;28mlen\u001b[39m(args_all) <= n_positional:\n\u001b[32m---> \u001b[39m\u001b[32m82\u001b[39m         \u001b[38;5;28;01mreturn\u001b[39;00m \u001b[43mfn\u001b[49m\u001b[43m(\u001b[49m\u001b[43m*\u001b[49m\u001b[43margs_all\u001b[49m\u001b[43m,\u001b[49m\u001b[43m \u001b[49m\u001b[43m*\u001b[49m\u001b[43m*\u001b[49m\u001b[43mkw\u001b[49m\u001b[43m)\u001b[49m\n\u001b[32m     84\u001b[39m     args_pos: P.args\n\u001b[32m     85\u001b[39m     args_pos, args_rest = args_all[:n_positional], args_all[n_positional:]\n",
      "\u001b[36mFile \u001b[39m\u001b[32m/opt/anaconda3/envs/qbproject/lib/python3.13/site-packages/scanpy/readwrite.py:221\u001b[39m, in \u001b[36mread_10x_h5\u001b[39m\u001b[34m(filename, genome, gex_only, backup_url)\u001b[39m\n\u001b[32m    219\u001b[39m \u001b[38;5;28;01mif\u001b[39;00m \u001b[38;5;129;01mnot\u001b[39;00m is_present:\n\u001b[32m    220\u001b[39m     logg.debug(\u001b[33mf\u001b[39m\u001b[33m\"\u001b[39m\u001b[33m... did not find original file \u001b[39m\u001b[38;5;132;01m{\u001b[39;00mpath\u001b[38;5;132;01m}\u001b[39;00m\u001b[33m\"\u001b[39m)\n\u001b[32m--> \u001b[39m\u001b[32m221\u001b[39m \u001b[38;5;28;01mwith\u001b[39;00m \u001b[43mh5py\u001b[49m\u001b[43m.\u001b[49m\u001b[43mFile\u001b[49m\u001b[43m(\u001b[49m\u001b[38;5;28;43mstr\u001b[39;49m\u001b[43m(\u001b[49m\u001b[43mpath\u001b[49m\u001b[43m)\u001b[49m\u001b[43m,\u001b[49m\u001b[43m \u001b[49m\u001b[33;43m\"\u001b[39;49m\u001b[33;43mr\u001b[39;49m\u001b[33;43m\"\u001b[39;49m\u001b[43m)\u001b[49m \u001b[38;5;28;01mas\u001b[39;00m f:\n\u001b[32m    222\u001b[39m     v3 = \u001b[33m\"\u001b[39m\u001b[33m/matrix\u001b[39m\u001b[33m\"\u001b[39m \u001b[38;5;129;01min\u001b[39;00m f\n\u001b[32m    223\u001b[39m \u001b[38;5;28;01mif\u001b[39;00m v3:\n",
      "\u001b[36mFile \u001b[39m\u001b[32m/opt/anaconda3/envs/qbproject/lib/python3.13/site-packages/h5py/_hl/files.py:564\u001b[39m, in \u001b[36mFile.__init__\u001b[39m\u001b[34m(self, name, mode, driver, libver, userblock_size, swmr, rdcc_nslots, rdcc_nbytes, rdcc_w0, track_order, fs_strategy, fs_persist, fs_threshold, fs_page_size, page_buf_size, min_meta_keep, min_raw_keep, locking, alignment_threshold, alignment_interval, meta_block_size, **kwds)\u001b[39m\n\u001b[32m    555\u001b[39m     fapl = make_fapl(driver, libver, rdcc_nslots, rdcc_nbytes, rdcc_w0,\n\u001b[32m    556\u001b[39m                      locking, page_buf_size, min_meta_keep, min_raw_keep,\n\u001b[32m    557\u001b[39m                      alignment_threshold=alignment_threshold,\n\u001b[32m    558\u001b[39m                      alignment_interval=alignment_interval,\n\u001b[32m    559\u001b[39m                      meta_block_size=meta_block_size,\n\u001b[32m    560\u001b[39m                      **kwds)\n\u001b[32m    561\u001b[39m     fcpl = make_fcpl(track_order=track_order, fs_strategy=fs_strategy,\n\u001b[32m    562\u001b[39m                      fs_persist=fs_persist, fs_threshold=fs_threshold,\n\u001b[32m    563\u001b[39m                      fs_page_size=fs_page_size)\n\u001b[32m--> \u001b[39m\u001b[32m564\u001b[39m     fid = \u001b[43mmake_fid\u001b[49m\u001b[43m(\u001b[49m\u001b[43mname\u001b[49m\u001b[43m,\u001b[49m\u001b[43m \u001b[49m\u001b[43mmode\u001b[49m\u001b[43m,\u001b[49m\u001b[43m \u001b[49m\u001b[43muserblock_size\u001b[49m\u001b[43m,\u001b[49m\u001b[43m \u001b[49m\u001b[43mfapl\u001b[49m\u001b[43m,\u001b[49m\u001b[43m \u001b[49m\u001b[43mfcpl\u001b[49m\u001b[43m,\u001b[49m\u001b[43m \u001b[49m\u001b[43mswmr\u001b[49m\u001b[43m=\u001b[49m\u001b[43mswmr\u001b[49m\u001b[43m)\u001b[49m\n\u001b[32m    566\u001b[39m \u001b[38;5;28;01mif\u001b[39;00m \u001b[38;5;28misinstance\u001b[39m(libver, \u001b[38;5;28mtuple\u001b[39m):\n\u001b[32m    567\u001b[39m     \u001b[38;5;28mself\u001b[39m._libver = libver\n",
      "\u001b[36mFile \u001b[39m\u001b[32m/opt/anaconda3/envs/qbproject/lib/python3.13/site-packages/h5py/_hl/files.py:238\u001b[39m, in \u001b[36mmake_fid\u001b[39m\u001b[34m(name, mode, userblock_size, fapl, fcpl, swmr)\u001b[39m\n\u001b[32m    236\u001b[39m     \u001b[38;5;28;01mif\u001b[39;00m swmr \u001b[38;5;129;01mand\u001b[39;00m swmr_support:\n\u001b[32m    237\u001b[39m         flags |= h5f.ACC_SWMR_READ\n\u001b[32m--> \u001b[39m\u001b[32m238\u001b[39m     fid = \u001b[43mh5f\u001b[49m\u001b[43m.\u001b[49m\u001b[43mopen\u001b[49m\u001b[43m(\u001b[49m\u001b[43mname\u001b[49m\u001b[43m,\u001b[49m\u001b[43m \u001b[49m\u001b[43mflags\u001b[49m\u001b[43m,\u001b[49m\u001b[43m \u001b[49m\u001b[43mfapl\u001b[49m\u001b[43m=\u001b[49m\u001b[43mfapl\u001b[49m\u001b[43m)\u001b[49m\n\u001b[32m    239\u001b[39m \u001b[38;5;28;01melif\u001b[39;00m mode == \u001b[33m'\u001b[39m\u001b[33mr+\u001b[39m\u001b[33m'\u001b[39m:\n\u001b[32m    240\u001b[39m     fid = h5f.open(name, h5f.ACC_RDWR, fapl=fapl)\n",
      "\u001b[36mFile \u001b[39m\u001b[32mh5py/_objects.pyx:56\u001b[39m, in \u001b[36mh5py._objects.with_phil.wrapper\u001b[39m\u001b[34m()\u001b[39m\n",
      "\u001b[36mFile \u001b[39m\u001b[32mh5py/_objects.pyx:57\u001b[39m, in \u001b[36mh5py._objects.with_phil.wrapper\u001b[39m\u001b[34m()\u001b[39m\n",
      "\u001b[36mFile \u001b[39m\u001b[32mh5py/h5f.pyx:102\u001b[39m, in \u001b[36mh5py.h5f.open\u001b[39m\u001b[34m()\u001b[39m\n",
      "\u001b[31mIsADirectoryError\u001b[39m: [Errno 21] Unable to synchronously open file (file read failed: time = Fri Oct  3 12:20:42 2025\n, filename = '/Users/cmdb/qb25project/mouse-brain-RNAseq', file descriptor = 74, errno = 21, error message = 'Is a directory', buf = 0x16d0b86f0, total read size = 8, bytes this sub-read = 8, offset = 0)"
     ]
    }
   ],
   "source": [
    "all_adata = []\n",
    "i = 0\n",
    "for s in samples:\n",
    "    area, age, idx, _ = s.split(\"_\")\n",
    "    print(area, age, idx)\n",
    "    curr_adata = sc.read_10x_h5(f\"/Users/cmdb/qb25project/mouse-brain-RNAseq/\")\n",
    "    curr_adata.var_names_make_unique()\n",
    "    curr_adata.obs['area'] = area\n",
    "    curr_adata.obs['age'] = age\n",
    "    curr_adata.obs['idx'] = i\n",
    "    i += 1\n",
    "    curr_adata.var['mt'] = curr_adata.var_names.str.startswith('mt-')  # annotate the group of mitochondrial genes as 'mt'\n",
    "    sc.pp.calculate_qc_metrics(curr_adata, qc_vars=['mt'], percent_top=None, log1p=False, inplace=True)\n",
    "\n",
    "    all_adata.append(curr_adata)"
   ]
  },
  {
   "cell_type": "code",
   "execution_count": null,
   "id": "4c6f848e",
   "metadata": {},
   "outputs": [],
   "source": [
    "total_cells = np.sum([a.n_obs for a in all_adata])\n",
    "print('total cells:', total_cells)"
   ]
  },
  {
   "cell_type": "code",
   "execution_count": null,
   "id": "35e9b6de",
   "metadata": {},
   "outputs": [],
   "source": [
    "adata = ad.concat(all_adata)"
   ]
  },
  {
   "cell_type": "code",
   "execution_count": null,
   "id": "475bd7a4",
   "metadata": {},
   "outputs": [],
   "source": [
    "adata[adata.obs.area=='PFC']"
   ]
  },
  {
   "cell_type": "code",
   "execution_count": null,
   "id": "454561c2",
   "metadata": {},
   "outputs": [],
   "source": [
    "adata.obs_names_make_unique()"
   ]
  },
  {
   "cell_type": "code",
   "execution_count": null,
   "id": "756692c2",
   "metadata": {},
   "outputs": [],
   "source": [
    "sc.pp.filter_cells(adata, min_genes=1000)\n",
    "sc.pp.filter_cells(adata, max_counts=100000)\n",
    "sc.pp.filter_genes(adata, min_cells=3)\n",
    "sc.pp.filter_cells(adata, min_counts=2500)"
   ]
  },
  {
   "cell_type": "code",
   "execution_count": null,
   "id": "b3906749",
   "metadata": {},
   "outputs": [],
   "source": [
    "adata"
   ]
  },
  {
   "cell_type": "code",
   "execution_count": null,
   "id": "64600e5a",
   "metadata": {},
   "outputs": [],
   "source": [
    "adata.obs['mouse_id'] = [mouse_id[i] for i in adata.obs.idx]"
   ]
  },
  {
   "cell_type": "code",
   "execution_count": null,
   "id": "b395fb02",
   "metadata": {},
   "outputs": [],
   "source": [
    "# run scrublet on adata to identify doublets\n",
    "import scrublet as scr\n",
    "scrub = scr.Scrublet(adata.X, expected_doublet_rate=0.09)\n",
    "doublet_scores, predicted_doublets = scrub.scrub_doublets(min_gene_variability_pctl=85, \n",
    "                                                          n_prin_comps=30)"
   ]
  },
  {
   "cell_type": "code",
   "execution_count": null,
   "id": "3eda1114",
   "metadata": {},
   "outputs": [],
   "source": []
  }
 ],
 "metadata": {
  "kernelspec": {
   "display_name": "qbproject",
   "language": "python",
   "name": "python3"
  },
  "language_info": {
   "codemirror_mode": {
    "name": "ipython",
    "version": 3
   },
   "file_extension": ".py",
   "mimetype": "text/x-python",
   "name": "python",
   "nbconvert_exporter": "python",
   "pygments_lexer": "ipython3",
   "version": "3.13.7"
  }
 },
 "nbformat": 4,
 "nbformat_minor": 5
}
